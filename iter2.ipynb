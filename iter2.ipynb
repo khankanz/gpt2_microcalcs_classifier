{
 "cells": [
  {
   "cell_type": "code",
   "execution_count": 1,
   "metadata": {},
   "outputs": [],
   "source": [
    "import pandas as pd\n",
    "import numpy as np\n",
    "import matplotlib.pyplot as plt\n",
    "from sklearn.model_selection import train_test_split\n",
    "from transformers import GPT2Tokenizer, GPT2ForSequenceClassification, AdamW\n",
    "from torch.utils.data import Dataset, DataLoader\n",
    "import torch\n"
   ]
  },
  {
   "cell_type": "markdown",
   "metadata": {},
   "source": [
    "Let's print our dependencies"
   ]
  },
  {
   "cell_type": "code",
   "execution_count": 2,
   "metadata": {},
   "outputs": [
    {
     "name": "stdout",
     "output_type": "stream",
     "text": [
      "matplotlib version: 3.8.2\n",
      "numpy version: 1.26.4\n",
      "torch version: 2.2.1+cu121\n",
      "pandas version: 2.1.4\n",
      "transformers version: 4.45.1\n"
     ]
    }
   ],
   "source": [
    "from importlib.metadata import version\n",
    "\n",
    "pkgs = [\"matplotlib\",\n",
    "        \"numpy\",\n",
    "        \"torch\",\n",
    "        \"pandas\",\n",
    "        \"transformers\" \n",
    "       ]\n",
    "for p in pkgs:\n",
    "    print(f\"{p} version: {version(p)}\")"
   ]
  },
  {
   "cell_type": "markdown",
   "metadata": {},
   "source": [
    "Creating our dataset"
   ]
  },
  {
   "cell_type": "code",
   "execution_count": 3,
   "metadata": {},
   "outputs": [],
   "source": [
    "from pathlib import Path\n",
    "DS_PATH = Path.cwd()/'data'"
   ]
  },
  {
   "cell_type": "code",
   "execution_count": 4,
   "metadata": {},
   "outputs": [
    {
     "name": "stdout",
     "output_type": "stream",
     "text": [
      "label\n",
      "Negative      122\n",
      "Positive       34\n",
      "Not Stated     10\n",
      "Name: count, dtype: int64\n"
     ]
    }
   ],
   "source": [
    "\n",
    "# Load the data\n",
    "df = pd.read_csv(DS_PATH/'synth-itr1-n166.csv')\n",
    "\n",
    "# Display class distribution\n",
    "print(df['label'].value_counts())\n"
   ]
  },
  {
   "cell_type": "code",
   "execution_count": 5,
   "metadata": {},
   "outputs": [],
   "source": [
    "# Encode labels\n",
    "label_encoding = {'Positive': 0, 'Negative': 1, 'Not Stated': 2}"
   ]
  },
  {
   "cell_type": "markdown",
   "metadata": {},
   "source": [
    "For the sake of simplicity, we're going to undersample the dataset so it contains 10 instances from each class"
   ]
  },
  {
   "cell_type": "code",
   "execution_count": 6,
   "metadata": {},
   "outputs": [
    {
     "name": "stdout",
     "output_type": "stream",
     "text": [
      "label\n",
      "Negative      10\n",
      "Not Stated    10\n",
      "Positive      10\n",
      "Name: count, dtype: int64\n"
     ]
    }
   ],
   "source": [
    "# Balance the dataset\n",
    "def balance_dataset(df):\n",
    "    min_class_count = df['label'].value_counts().min()\n",
    "    balanced_df = df.groupby('label').apply(lambda x: x.sample(min_class_count)).reset_index(drop=True)\n",
    "    return balanced_df\n",
    "\n",
    "balanced_df = balance_dataset(df)\n",
    "print(balanced_df['label'].value_counts())"
   ]
  },
  {
   "cell_type": "code",
   "execution_count": 7,
   "metadata": {},
   "outputs": [
    {
     "data": {
      "text/html": [
       "<div>\n",
       "<style scoped>\n",
       "    .dataframe tbody tr th:only-of-type {\n",
       "        vertical-align: middle;\n",
       "    }\n",
       "\n",
       "    .dataframe tbody tr th {\n",
       "        vertical-align: top;\n",
       "    }\n",
       "\n",
       "    .dataframe thead th {\n",
       "        text-align: right;\n",
       "    }\n",
       "</style>\n",
       "<table border=\"1\" class=\"dataframe\">\n",
       "  <thead>\n",
       "    <tr style=\"text-align: right;\">\n",
       "      <th></th>\n",
       "      <th>Unnamed: 0</th>\n",
       "      <th>report_text</th>\n",
       "      <th>label</th>\n",
       "    </tr>\n",
       "  </thead>\n",
       "  <tbody>\n",
       "    <tr>\n",
       "      <th>0</th>\n",
       "      <td>24</td>\n",
       "      <td>BILATERAL DIAGNOSTIC MAMMOGRAM\\nClinical Histo...</td>\n",
       "      <td>Negative</td>\n",
       "    </tr>\n",
       "    <tr>\n",
       "      <th>1</th>\n",
       "      <td>115</td>\n",
       "      <td>BILATERAL DIAGNOSTIC MAMMOGRAM. History: Patie...</td>\n",
       "      <td>Negative</td>\n",
       "    </tr>\n",
       "    <tr>\n",
       "      <th>2</th>\n",
       "      <td>17</td>\n",
       "      <td>LEFT DIAGNOSTIC MAMMOGRAM\\nClinical History: 7...</td>\n",
       "      <td>Negative</td>\n",
       "    </tr>\n",
       "    <tr>\n",
       "      <th>3</th>\n",
       "      <td>39</td>\n",
       "      <td>BILATERAL SCREENING MAMMOGRAM\\nHistory: Screen...</td>\n",
       "      <td>Negative</td>\n",
       "    </tr>\n",
       "    <tr>\n",
       "      <th>4</th>\n",
       "      <td>122</td>\n",
       "      <td>BILATERAL DIAGNOSTIC MAMMOGRAM FOR SCREENING. ...</td>\n",
       "      <td>Negative</td>\n",
       "    </tr>\n",
       "  </tbody>\n",
       "</table>\n",
       "</div>"
      ],
      "text/plain": [
       "   Unnamed: 0                                        report_text     label\n",
       "0          24  BILATERAL DIAGNOSTIC MAMMOGRAM\\nClinical Histo...  Negative\n",
       "1         115  BILATERAL DIAGNOSTIC MAMMOGRAM. History: Patie...  Negative\n",
       "2          17  LEFT DIAGNOSTIC MAMMOGRAM\\nClinical History: 7...  Negative\n",
       "3          39  BILATERAL SCREENING MAMMOGRAM\\nHistory: Screen...  Negative\n",
       "4         122  BILATERAL DIAGNOSTIC MAMMOGRAM FOR SCREENING. ...  Negative"
      ]
     },
     "execution_count": 7,
     "metadata": {},
     "output_type": "execute_result"
    }
   ],
   "source": [
    "balanced_df.head()"
   ]
  },
  {
   "cell_type": "code",
   "execution_count": 8,
   "metadata": {},
   "outputs": [],
   "source": [
    "# Plot class distribution\n",
    "plt.figure(figsize=(10, 5))\n",
    "balanced_df['label'].value_counts().plot(kind='bar')\n",
    "plt.title('Balanced Class Distribution')\n",
    "plt.xlabel('Label')\n",
    "plt.ylabel('Count')\n",
    "plt.savefig('balanced_class_distribution.png')\n",
    "plt.close()"
   ]
  },
  {
   "cell_type": "code",
   "execution_count": 9,
   "metadata": {},
   "outputs": [],
   "source": [
    "balanced_df['label_encoded'] = balanced_df['label'].map(label_encoding)"
   ]
  },
  {
   "cell_type": "code",
   "execution_count": 10,
   "metadata": {},
   "outputs": [],
   "source": [
    "\n",
    "# Split the data\n",
    "train_df, temp_df = train_test_split(balanced_df, test_size=0.3, stratify=balanced_df['label'], random_state=42)\n",
    "val_df, test_df = train_test_split(temp_df, test_size=0.5, stratify=temp_df['label'], random_state=42)\n"
   ]
  },
  {
   "cell_type": "markdown",
   "metadata": {},
   "source": [
    "Creating dataloaders"
   ]
  },
  {
   "cell_type": "code",
   "execution_count": 11,
   "metadata": {},
   "outputs": [
    {
     "name": "stderr",
     "output_type": "stream",
     "text": [
      "/home/zeus/miniconda3/envs/cloudspace/lib/python3.10/site-packages/transformers/tokenization_utils_base.py:1617: FutureWarning: `clean_up_tokenization_spaces` was not set. It will be set to `True` by default. This behavior will be deprecated in transformers v4.45, and will be then set to `False` by default. For more details check this issue: https://github.com/huggingface/transformers/issues/31884\n",
      "  warnings.warn(\n",
      "Some weights of GPT2ForSequenceClassification were not initialized from the model checkpoint at gpt2 and are newly initialized: ['score.weight']\n",
      "You should probably TRAIN this model on a down-stream task to be able to use it for predictions and inference.\n"
     ]
    }
   ],
   "source": [
    "# Initialize tokenizer and model\n",
    "tokenizer = GPT2Tokenizer.from_pretrained('gpt2')\n",
    "tokenizer.pad_token = tokenizer.eos_token\n",
    "model = GPT2ForSequenceClassification.from_pretrained('gpt2', num_labels=3)\n",
    "model.config.pad_token_id = model.config.eos_token_id"
   ]
  },
  {
   "cell_type": "code",
   "execution_count": 12,
   "metadata": {},
   "outputs": [
    {
     "data": {
      "text/plain": [
       "50256"
      ]
     },
     "execution_count": 12,
     "metadata": {},
     "output_type": "execute_result"
    }
   ],
   "source": [
    "model.config.pad_token_id"
   ]
  },
  {
   "cell_type": "code",
   "execution_count": 13,
   "metadata": {},
   "outputs": [],
   "source": [
    "\n",
    "# Custom dataset\n",
    "class ReportDataset(Dataset):\n",
    "    def __init__(self, dataframe, tokenizer, max_length):\n",
    "        self.data = dataframe\n",
    "        self.tokenizer = tokenizer\n",
    "        self.max_length = max_length\n",
    "\n",
    "    def __len__(self):\n",
    "        return len(self.data)\n",
    "\n",
    "    def __getitem__(self, idx):\n",
    "        text = self.data.iloc[idx]['report_text']\n",
    "        label = self.data.iloc[idx]['label_encoded']\n",
    "        \n",
    "        encoding = self.tokenizer(text, truncation=True, padding='max_length', max_length=self.max_length, return_tensors='pt')\n",
    "        \n",
    "        return {\n",
    "            'input_ids': encoding['input_ids'].flatten(),\n",
    "            'attention_mask': encoding['attention_mask'].flatten(),\n",
    "            'labels': torch.tensor(label, dtype=torch.long)\n",
    "        }"
   ]
  },
  {
   "cell_type": "code",
   "execution_count": 14,
   "metadata": {},
   "outputs": [],
   "source": [
    "# class ReportDataset(Dataset):\n",
    "#     def __init__(self, dataframe, tokenizer, max_length=None, pad_token_id=model.config.pad_token_id):\n",
    "#         self.data = dataframe\n",
    "\n",
    "#         # Pre-tokenize texts\n",
    "#         self.encoded_texts = [\n",
    "#             tokenizer.encode(text) for text in self.data[\"report_text\"]\n",
    "#         ]\n",
    "\n",
    "#         if max_length is None:\n",
    "#             self.max_length = self._longest_encoded_length()\n",
    "#         else:\n",
    "#             self.max_length = max_length\n",
    "#             # Truncate sequences if they are longer than max_length\n",
    "#             self.encoded_texts = [\n",
    "#                 encoded_text[:self.max_length]\n",
    "#                 for encoded_text in self.encoded_texts\n",
    "#             ]\n",
    "\n",
    "#         # Pad sequences to the longest sequence\n",
    "#         self.encoded_texts = [\n",
    "#             encoded_text + [pad_token_id] * (self.max_length - len(encoded_text))\n",
    "#             for encoded_text in self.encoded_texts\n",
    "#         ]\n",
    "\n",
    "#     def __getitem__(self, index):\n",
    "#         encoded = self.encoded_texts[index]\n",
    "#         label = self.data.iloc[index][\"label_encoded\"]\n",
    "#         return (\n",
    "#             torch.tensor(encoded, dtype=torch.long),\n",
    "#             torch.tensor(label, dtype=torch.long)\n",
    "#         )\n",
    "\n",
    "#     def __len__(self):\n",
    "#         return len(self.data)\n",
    "\n",
    "#     def _longest_encoded_length(self):\n",
    "#         max_length = 0\n",
    "#         for encoded_text in self.encoded_texts:\n",
    "#             encoded_length = len(encoded_text)\n",
    "#             if encoded_length > max_length:\n",
    "#                 max_length = encoded_length\n",
    "#         return max_length"
   ]
  },
  {
   "cell_type": "code",
   "execution_count": 15,
   "metadata": {},
   "outputs": [
    {
     "name": "stdout",
     "output_type": "stream",
     "text": [
      "<__main__.ReportDataset object at 0x7fb37dfd28f0>\n"
     ]
    }
   ],
   "source": [
    "train_dataset = ReportDataset(train_df, tokenizer, max_length=1024)\n",
    "print(train_dataset)"
   ]
  },
  {
   "cell_type": "code",
   "execution_count": 16,
   "metadata": {},
   "outputs": [],
   "source": [
    "val_dataset = ReportDataset(val_df, tokenizer, max_length=train_dataset.max_length)\n",
    "test_dataset = ReportDataset(test_df, tokenizer, max_length=train_dataset.max_length)"
   ]
  },
  {
   "cell_type": "code",
   "execution_count": 17,
   "metadata": {},
   "outputs": [],
   "source": [
    "# Create datasets and dataloaders\n",
    "num_workers = 4\n",
    "batch_size = 8"
   ]
  },
  {
   "cell_type": "code",
   "execution_count": 18,
   "metadata": {},
   "outputs": [],
   "source": [
    "train_loader = DataLoader(train_dataset, batch_size=batch_size, shuffle=True, num_workers=num_workers, drop_last=True)\n",
    "val_loader = DataLoader(val_dataset, batch_size=batch_size, num_workers=num_workers, drop_last=False)\n",
    "test_loader = DataLoader(test_dataset, batch_size=batch_size, num_workers=num_workers, drop_last=False)"
   ]
  },
  {
   "cell_type": "code",
   "execution_count": 19,
   "metadata": {},
   "outputs": [
    {
     "name": "stdout",
     "output_type": "stream",
     "text": [
      "2 training batches\n",
      "1 validation batches\n",
      "1 test batches\n"
     ]
    }
   ],
   "source": [
    "print(f\"{len(train_loader)} training batches\")\n",
    "print(f\"{len(val_loader)} validation batches\")\n",
    "print(f\"{len(test_loader)} test batches\")"
   ]
  },
  {
   "cell_type": "markdown",
   "metadata": {},
   "source": [
    "Onto model verification etc"
   ]
  },
  {
   "cell_type": "code",
   "execution_count": 20,
   "metadata": {},
   "outputs": [
    {
     "data": {
      "text/plain": [
       "GPT2Config {\n",
       "  \"_name_or_path\": \"gpt2\",\n",
       "  \"activation_function\": \"gelu_new\",\n",
       "  \"architectures\": [\n",
       "    \"GPT2LMHeadModel\"\n",
       "  ],\n",
       "  \"attn_pdrop\": 0.1,\n",
       "  \"bos_token_id\": 50256,\n",
       "  \"embd_pdrop\": 0.1,\n",
       "  \"eos_token_id\": 50256,\n",
       "  \"id2label\": {\n",
       "    \"0\": \"LABEL_0\",\n",
       "    \"1\": \"LABEL_1\",\n",
       "    \"2\": \"LABEL_2\"\n",
       "  },\n",
       "  \"initializer_range\": 0.02,\n",
       "  \"label2id\": {\n",
       "    \"LABEL_0\": 0,\n",
       "    \"LABEL_1\": 1,\n",
       "    \"LABEL_2\": 2\n",
       "  },\n",
       "  \"layer_norm_epsilon\": 1e-05,\n",
       "  \"model_type\": \"gpt2\",\n",
       "  \"n_ctx\": 1024,\n",
       "  \"n_embd\": 768,\n",
       "  \"n_head\": 12,\n",
       "  \"n_inner\": null,\n",
       "  \"n_layer\": 12,\n",
       "  \"n_positions\": 1024,\n",
       "  \"pad_token_id\": 50256,\n",
       "  \"reorder_and_upcast_attn\": false,\n",
       "  \"resid_pdrop\": 0.1,\n",
       "  \"scale_attn_by_inverse_layer_idx\": false,\n",
       "  \"scale_attn_weights\": true,\n",
       "  \"summary_activation\": null,\n",
       "  \"summary_first_dropout\": 0.1,\n",
       "  \"summary_proj_to_labels\": true,\n",
       "  \"summary_type\": \"cls_index\",\n",
       "  \"summary_use_proj\": true,\n",
       "  \"task_specific_params\": {\n",
       "    \"text-generation\": {\n",
       "      \"do_sample\": true,\n",
       "      \"max_length\": 50\n",
       "    }\n",
       "  },\n",
       "  \"transformers_version\": \"4.45.1\",\n",
       "  \"use_cache\": true,\n",
       "  \"vocab_size\": 50257\n",
       "}"
      ]
     },
     "execution_count": 20,
     "metadata": {},
     "output_type": "execute_result"
    }
   ],
   "source": [
    "model.config"
   ]
  },
  {
   "cell_type": "code",
   "execution_count": 21,
   "metadata": {},
   "outputs": [],
   "source": [
    "assert train_dataset.max_length <= model.config.n_positions, (\n",
    "    f\"Dataset length {train_dataset.max_length} exceeds model's context \"\n",
    "    f\"length {model.config.n_positions}. Reinitialize data sets with \"\n",
    "    f\"`max_length={model.config.n_positions}`\"\n",
    ")"
   ]
  },
  {
   "cell_type": "code",
   "execution_count": 22,
   "metadata": {},
   "outputs": [],
   "source": [
    "for param in model.parameters():\n",
    "    param.requires_grad = False"
   ]
  },
  {
   "cell_type": "code",
   "execution_count": 23,
   "metadata": {},
   "outputs": [],
   "source": [
    "for name, param in model.named_parameters():\n",
    "    if param.requires_grad: print(f\"Parameter '{name}' is trainable\")"
   ]
  },
  {
   "cell_type": "code",
   "execution_count": 24,
   "metadata": {},
   "outputs": [
    {
     "name": "stdout",
     "output_type": "stream",
     "text": [
      "Parameter `transformer.wte.weight` is not trainable\n",
      "Parameter `transformer.wpe.weight` is not trainable\n",
      "Parameter `transformer.h.0.ln_1.weight` is not trainable\n",
      "Parameter `transformer.h.0.ln_1.bias` is not trainable\n",
      "Parameter `transformer.h.0.attn.c_attn.weight` is not trainable\n",
      "Parameter `transformer.h.0.attn.c_attn.bias` is not trainable\n",
      "Parameter `transformer.h.0.attn.c_proj.weight` is not trainable\n",
      "Parameter `transformer.h.0.attn.c_proj.bias` is not trainable\n",
      "Parameter `transformer.h.0.ln_2.weight` is not trainable\n",
      "Parameter `transformer.h.0.ln_2.bias` is not trainable\n",
      "Parameter `transformer.h.0.mlp.c_fc.weight` is not trainable\n",
      "Parameter `transformer.h.0.mlp.c_fc.bias` is not trainable\n",
      "Parameter `transformer.h.0.mlp.c_proj.weight` is not trainable\n",
      "Parameter `transformer.h.0.mlp.c_proj.bias` is not trainable\n",
      "Parameter `transformer.h.1.ln_1.weight` is not trainable\n",
      "Parameter `transformer.h.1.ln_1.bias` is not trainable\n",
      "Parameter `transformer.h.1.attn.c_attn.weight` is not trainable\n",
      "Parameter `transformer.h.1.attn.c_attn.bias` is not trainable\n",
      "Parameter `transformer.h.1.attn.c_proj.weight` is not trainable\n",
      "Parameter `transformer.h.1.attn.c_proj.bias` is not trainable\n",
      "Parameter `transformer.h.1.ln_2.weight` is not trainable\n",
      "Parameter `transformer.h.1.ln_2.bias` is not trainable\n",
      "Parameter `transformer.h.1.mlp.c_fc.weight` is not trainable\n",
      "Parameter `transformer.h.1.mlp.c_fc.bias` is not trainable\n",
      "Parameter `transformer.h.1.mlp.c_proj.weight` is not trainable\n",
      "Parameter `transformer.h.1.mlp.c_proj.bias` is not trainable\n",
      "Parameter `transformer.h.2.ln_1.weight` is not trainable\n",
      "Parameter `transformer.h.2.ln_1.bias` is not trainable\n",
      "Parameter `transformer.h.2.attn.c_attn.weight` is not trainable\n",
      "Parameter `transformer.h.2.attn.c_attn.bias` is not trainable\n",
      "Parameter `transformer.h.2.attn.c_proj.weight` is not trainable\n",
      "Parameter `transformer.h.2.attn.c_proj.bias` is not trainable\n",
      "Parameter `transformer.h.2.ln_2.weight` is not trainable\n",
      "Parameter `transformer.h.2.ln_2.bias` is not trainable\n",
      "Parameter `transformer.h.2.mlp.c_fc.weight` is not trainable\n",
      "Parameter `transformer.h.2.mlp.c_fc.bias` is not trainable\n",
      "Parameter `transformer.h.2.mlp.c_proj.weight` is not trainable\n",
      "Parameter `transformer.h.2.mlp.c_proj.bias` is not trainable\n",
      "Parameter `transformer.h.3.ln_1.weight` is not trainable\n",
      "Parameter `transformer.h.3.ln_1.bias` is not trainable\n",
      "Parameter `transformer.h.3.attn.c_attn.weight` is not trainable\n",
      "Parameter `transformer.h.3.attn.c_attn.bias` is not trainable\n",
      "Parameter `transformer.h.3.attn.c_proj.weight` is not trainable\n",
      "Parameter `transformer.h.3.attn.c_proj.bias` is not trainable\n",
      "Parameter `transformer.h.3.ln_2.weight` is not trainable\n",
      "Parameter `transformer.h.3.ln_2.bias` is not trainable\n",
      "Parameter `transformer.h.3.mlp.c_fc.weight` is not trainable\n",
      "Parameter `transformer.h.3.mlp.c_fc.bias` is not trainable\n",
      "Parameter `transformer.h.3.mlp.c_proj.weight` is not trainable\n",
      "Parameter `transformer.h.3.mlp.c_proj.bias` is not trainable\n",
      "Parameter `transformer.h.4.ln_1.weight` is not trainable\n",
      "Parameter `transformer.h.4.ln_1.bias` is not trainable\n",
      "Parameter `transformer.h.4.attn.c_attn.weight` is not trainable\n",
      "Parameter `transformer.h.4.attn.c_attn.bias` is not trainable\n",
      "Parameter `transformer.h.4.attn.c_proj.weight` is not trainable\n",
      "Parameter `transformer.h.4.attn.c_proj.bias` is not trainable\n",
      "Parameter `transformer.h.4.ln_2.weight` is not trainable\n",
      "Parameter `transformer.h.4.ln_2.bias` is not trainable\n",
      "Parameter `transformer.h.4.mlp.c_fc.weight` is not trainable\n",
      "Parameter `transformer.h.4.mlp.c_fc.bias` is not trainable\n",
      "Parameter `transformer.h.4.mlp.c_proj.weight` is not trainable\n",
      "Parameter `transformer.h.4.mlp.c_proj.bias` is not trainable\n",
      "Parameter `transformer.h.5.ln_1.weight` is not trainable\n",
      "Parameter `transformer.h.5.ln_1.bias` is not trainable\n",
      "Parameter `transformer.h.5.attn.c_attn.weight` is not trainable\n",
      "Parameter `transformer.h.5.attn.c_attn.bias` is not trainable\n",
      "Parameter `transformer.h.5.attn.c_proj.weight` is not trainable\n",
      "Parameter `transformer.h.5.attn.c_proj.bias` is not trainable\n",
      "Parameter `transformer.h.5.ln_2.weight` is not trainable\n",
      "Parameter `transformer.h.5.ln_2.bias` is not trainable\n",
      "Parameter `transformer.h.5.mlp.c_fc.weight` is not trainable\n",
      "Parameter `transformer.h.5.mlp.c_fc.bias` is not trainable\n",
      "Parameter `transformer.h.5.mlp.c_proj.weight` is not trainable\n",
      "Parameter `transformer.h.5.mlp.c_proj.bias` is not trainable\n",
      "Parameter `transformer.h.6.ln_1.weight` is not trainable\n",
      "Parameter `transformer.h.6.ln_1.bias` is not trainable\n",
      "Parameter `transformer.h.6.attn.c_attn.weight` is not trainable\n",
      "Parameter `transformer.h.6.attn.c_attn.bias` is not trainable\n",
      "Parameter `transformer.h.6.attn.c_proj.weight` is not trainable\n",
      "Parameter `transformer.h.6.attn.c_proj.bias` is not trainable\n",
      "Parameter `transformer.h.6.ln_2.weight` is not trainable\n",
      "Parameter `transformer.h.6.ln_2.bias` is not trainable\n",
      "Parameter `transformer.h.6.mlp.c_fc.weight` is not trainable\n",
      "Parameter `transformer.h.6.mlp.c_fc.bias` is not trainable\n",
      "Parameter `transformer.h.6.mlp.c_proj.weight` is not trainable\n",
      "Parameter `transformer.h.6.mlp.c_proj.bias` is not trainable\n",
      "Parameter `transformer.h.7.ln_1.weight` is not trainable\n",
      "Parameter `transformer.h.7.ln_1.bias` is not trainable\n",
      "Parameter `transformer.h.7.attn.c_attn.weight` is not trainable\n",
      "Parameter `transformer.h.7.attn.c_attn.bias` is not trainable\n",
      "Parameter `transformer.h.7.attn.c_proj.weight` is not trainable\n",
      "Parameter `transformer.h.7.attn.c_proj.bias` is not trainable\n",
      "Parameter `transformer.h.7.ln_2.weight` is not trainable\n",
      "Parameter `transformer.h.7.ln_2.bias` is not trainable\n",
      "Parameter `transformer.h.7.mlp.c_fc.weight` is not trainable\n",
      "Parameter `transformer.h.7.mlp.c_fc.bias` is not trainable\n",
      "Parameter `transformer.h.7.mlp.c_proj.weight` is not trainable\n",
      "Parameter `transformer.h.7.mlp.c_proj.bias` is not trainable\n",
      "Parameter `transformer.h.8.ln_1.weight` is not trainable\n",
      "Parameter `transformer.h.8.ln_1.bias` is not trainable\n",
      "Parameter `transformer.h.8.attn.c_attn.weight` is not trainable\n",
      "Parameter `transformer.h.8.attn.c_attn.bias` is not trainable\n",
      "Parameter `transformer.h.8.attn.c_proj.weight` is not trainable\n",
      "Parameter `transformer.h.8.attn.c_proj.bias` is not trainable\n",
      "Parameter `transformer.h.8.ln_2.weight` is not trainable\n",
      "Parameter `transformer.h.8.ln_2.bias` is not trainable\n",
      "Parameter `transformer.h.8.mlp.c_fc.weight` is not trainable\n",
      "Parameter `transformer.h.8.mlp.c_fc.bias` is not trainable\n",
      "Parameter `transformer.h.8.mlp.c_proj.weight` is not trainable\n",
      "Parameter `transformer.h.8.mlp.c_proj.bias` is not trainable\n",
      "Parameter `transformer.h.9.ln_1.weight` is not trainable\n",
      "Parameter `transformer.h.9.ln_1.bias` is not trainable\n",
      "Parameter `transformer.h.9.attn.c_attn.weight` is not trainable\n",
      "Parameter `transformer.h.9.attn.c_attn.bias` is not trainable\n",
      "Parameter `transformer.h.9.attn.c_proj.weight` is not trainable\n",
      "Parameter `transformer.h.9.attn.c_proj.bias` is not trainable\n",
      "Parameter `transformer.h.9.ln_2.weight` is not trainable\n",
      "Parameter `transformer.h.9.ln_2.bias` is not trainable\n",
      "Parameter `transformer.h.9.mlp.c_fc.weight` is not trainable\n",
      "Parameter `transformer.h.9.mlp.c_fc.bias` is not trainable\n",
      "Parameter `transformer.h.9.mlp.c_proj.weight` is not trainable\n",
      "Parameter `transformer.h.9.mlp.c_proj.bias` is not trainable\n",
      "Parameter `transformer.h.10.ln_1.weight` is not trainable\n",
      "Parameter `transformer.h.10.ln_1.bias` is not trainable\n",
      "Parameter `transformer.h.10.attn.c_attn.weight` is not trainable\n",
      "Parameter `transformer.h.10.attn.c_attn.bias` is not trainable\n",
      "Parameter `transformer.h.10.attn.c_proj.weight` is not trainable\n",
      "Parameter `transformer.h.10.attn.c_proj.bias` is not trainable\n",
      "Parameter `transformer.h.10.ln_2.weight` is not trainable\n",
      "Parameter `transformer.h.10.ln_2.bias` is not trainable\n",
      "Parameter `transformer.h.10.mlp.c_fc.weight` is not trainable\n",
      "Parameter `transformer.h.10.mlp.c_fc.bias` is not trainable\n",
      "Parameter `transformer.h.10.mlp.c_proj.weight` is not trainable\n",
      "Parameter `transformer.h.10.mlp.c_proj.bias` is not trainable\n",
      "Parameter `transformer.h.11.ln_1.weight` is not trainable\n",
      "Parameter `transformer.h.11.ln_1.bias` is not trainable\n",
      "Parameter `transformer.h.11.attn.c_attn.weight` is not trainable\n",
      "Parameter `transformer.h.11.attn.c_attn.bias` is not trainable\n",
      "Parameter `transformer.h.11.attn.c_proj.weight` is not trainable\n",
      "Parameter `transformer.h.11.attn.c_proj.bias` is not trainable\n",
      "Parameter `transformer.h.11.ln_2.weight` is not trainable\n",
      "Parameter `transformer.h.11.ln_2.bias` is not trainable\n",
      "Parameter `transformer.h.11.mlp.c_fc.weight` is not trainable\n",
      "Parameter `transformer.h.11.mlp.c_fc.bias` is not trainable\n",
      "Parameter `transformer.h.11.mlp.c_proj.weight` is not trainable\n",
      "Parameter `transformer.h.11.mlp.c_proj.bias` is not trainable\n",
      "Parameter `transformer.ln_f.weight` is not trainable\n",
      "Parameter `transformer.ln_f.bias` is not trainable\n",
      "Parameter `score.weight` is not trainable\n"
     ]
    }
   ],
   "source": [
    "for name, param in model.named_parameters(): \n",
    "    if param.requires_grad == False: print(f\"Parameter `{name}` is not trainable\") "
   ]
  },
  {
   "cell_type": "code",
   "execution_count": 25,
   "metadata": {},
   "outputs": [
    {
     "data": {
      "text/plain": [
       "Linear(in_features=768, out_features=3, bias=False)"
      ]
     },
     "execution_count": 25,
     "metadata": {},
     "output_type": "execute_result"
    }
   ],
   "source": [
    "model.score"
   ]
  },
  {
   "cell_type": "code",
   "execution_count": 26,
   "metadata": {},
   "outputs": [],
   "source": [
    "for param in model.transformer.h[-1].parameters(): param.requires_grad = True\n",
    "for param in model.transformer.ln_f.parameters(): param.required_grad = True"
   ]
  },
  {
   "cell_type": "code",
   "execution_count": 27,
   "metadata": {},
   "outputs": [],
   "source": [
    "for name, param in model.named_parameters():\n",
    "    if name.startswith('score'):\n",
    "        param.required_grad = True"
   ]
  },
  {
   "cell_type": "code",
   "execution_count": 28,
   "metadata": {},
   "outputs": [
    {
     "name": "stdout",
     "output_type": "stream",
     "text": [
      "Parameter 'transformer.h.11.ln_1.weight' is trainable\n",
      "Parameter 'transformer.h.11.ln_1.bias' is trainable\n",
      "Parameter 'transformer.h.11.attn.c_attn.weight' is trainable\n",
      "Parameter 'transformer.h.11.attn.c_attn.bias' is trainable\n",
      "Parameter 'transformer.h.11.attn.c_proj.weight' is trainable\n",
      "Parameter 'transformer.h.11.attn.c_proj.bias' is trainable\n",
      "Parameter 'transformer.h.11.ln_2.weight' is trainable\n",
      "Parameter 'transformer.h.11.ln_2.bias' is trainable\n",
      "Parameter 'transformer.h.11.mlp.c_fc.weight' is trainable\n",
      "Parameter 'transformer.h.11.mlp.c_fc.bias' is trainable\n",
      "Parameter 'transformer.h.11.mlp.c_proj.weight' is trainable\n",
      "Parameter 'transformer.h.11.mlp.c_proj.bias' is trainable\n"
     ]
    }
   ],
   "source": [
    "for name, param in model.named_parameters():\n",
    "    if param.requires_grad: print(f\"Parameter '{name}' is trainable\")"
   ]
  },
  {
   "cell_type": "code",
   "execution_count": 29,
   "metadata": {},
   "outputs": [
    {
     "name": "stdout",
     "output_type": "stream",
     "text": [
      "Parameter `transformer.wte.weight` is not trainable\n",
      "Parameter `transformer.wpe.weight` is not trainable\n",
      "Parameter `transformer.h.0.ln_1.weight` is not trainable\n",
      "Parameter `transformer.h.0.ln_1.bias` is not trainable\n",
      "Parameter `transformer.h.0.attn.c_attn.weight` is not trainable\n",
      "Parameter `transformer.h.0.attn.c_attn.bias` is not trainable\n",
      "Parameter `transformer.h.0.attn.c_proj.weight` is not trainable\n",
      "Parameter `transformer.h.0.attn.c_proj.bias` is not trainable\n",
      "Parameter `transformer.h.0.ln_2.weight` is not trainable\n",
      "Parameter `transformer.h.0.ln_2.bias` is not trainable\n",
      "Parameter `transformer.h.0.mlp.c_fc.weight` is not trainable\n",
      "Parameter `transformer.h.0.mlp.c_fc.bias` is not trainable\n",
      "Parameter `transformer.h.0.mlp.c_proj.weight` is not trainable\n",
      "Parameter `transformer.h.0.mlp.c_proj.bias` is not trainable\n",
      "Parameter `transformer.h.1.ln_1.weight` is not trainable\n",
      "Parameter `transformer.h.1.ln_1.bias` is not trainable\n",
      "Parameter `transformer.h.1.attn.c_attn.weight` is not trainable\n",
      "Parameter `transformer.h.1.attn.c_attn.bias` is not trainable\n",
      "Parameter `transformer.h.1.attn.c_proj.weight` is not trainable\n",
      "Parameter `transformer.h.1.attn.c_proj.bias` is not trainable\n",
      "Parameter `transformer.h.1.ln_2.weight` is not trainable\n",
      "Parameter `transformer.h.1.ln_2.bias` is not trainable\n",
      "Parameter `transformer.h.1.mlp.c_fc.weight` is not trainable\n",
      "Parameter `transformer.h.1.mlp.c_fc.bias` is not trainable\n",
      "Parameter `transformer.h.1.mlp.c_proj.weight` is not trainable\n",
      "Parameter `transformer.h.1.mlp.c_proj.bias` is not trainable\n",
      "Parameter `transformer.h.2.ln_1.weight` is not trainable\n",
      "Parameter `transformer.h.2.ln_1.bias` is not trainable\n",
      "Parameter `transformer.h.2.attn.c_attn.weight` is not trainable\n",
      "Parameter `transformer.h.2.attn.c_attn.bias` is not trainable\n",
      "Parameter `transformer.h.2.attn.c_proj.weight` is not trainable\n",
      "Parameter `transformer.h.2.attn.c_proj.bias` is not trainable\n",
      "Parameter `transformer.h.2.ln_2.weight` is not trainable\n",
      "Parameter `transformer.h.2.ln_2.bias` is not trainable\n",
      "Parameter `transformer.h.2.mlp.c_fc.weight` is not trainable\n",
      "Parameter `transformer.h.2.mlp.c_fc.bias` is not trainable\n",
      "Parameter `transformer.h.2.mlp.c_proj.weight` is not trainable\n",
      "Parameter `transformer.h.2.mlp.c_proj.bias` is not trainable\n",
      "Parameter `transformer.h.3.ln_1.weight` is not trainable\n",
      "Parameter `transformer.h.3.ln_1.bias` is not trainable\n",
      "Parameter `transformer.h.3.attn.c_attn.weight` is not trainable\n",
      "Parameter `transformer.h.3.attn.c_attn.bias` is not trainable\n",
      "Parameter `transformer.h.3.attn.c_proj.weight` is not trainable\n",
      "Parameter `transformer.h.3.attn.c_proj.bias` is not trainable\n",
      "Parameter `transformer.h.3.ln_2.weight` is not trainable\n",
      "Parameter `transformer.h.3.ln_2.bias` is not trainable\n",
      "Parameter `transformer.h.3.mlp.c_fc.weight` is not trainable\n",
      "Parameter `transformer.h.3.mlp.c_fc.bias` is not trainable\n",
      "Parameter `transformer.h.3.mlp.c_proj.weight` is not trainable\n",
      "Parameter `transformer.h.3.mlp.c_proj.bias` is not trainable\n",
      "Parameter `transformer.h.4.ln_1.weight` is not trainable\n",
      "Parameter `transformer.h.4.ln_1.bias` is not trainable\n",
      "Parameter `transformer.h.4.attn.c_attn.weight` is not trainable\n",
      "Parameter `transformer.h.4.attn.c_attn.bias` is not trainable\n",
      "Parameter `transformer.h.4.attn.c_proj.weight` is not trainable\n",
      "Parameter `transformer.h.4.attn.c_proj.bias` is not trainable\n",
      "Parameter `transformer.h.4.ln_2.weight` is not trainable\n",
      "Parameter `transformer.h.4.ln_2.bias` is not trainable\n",
      "Parameter `transformer.h.4.mlp.c_fc.weight` is not trainable\n",
      "Parameter `transformer.h.4.mlp.c_fc.bias` is not trainable\n",
      "Parameter `transformer.h.4.mlp.c_proj.weight` is not trainable\n",
      "Parameter `transformer.h.4.mlp.c_proj.bias` is not trainable\n",
      "Parameter `transformer.h.5.ln_1.weight` is not trainable\n",
      "Parameter `transformer.h.5.ln_1.bias` is not trainable\n",
      "Parameter `transformer.h.5.attn.c_attn.weight` is not trainable\n",
      "Parameter `transformer.h.5.attn.c_attn.bias` is not trainable\n",
      "Parameter `transformer.h.5.attn.c_proj.weight` is not trainable\n",
      "Parameter `transformer.h.5.attn.c_proj.bias` is not trainable\n",
      "Parameter `transformer.h.5.ln_2.weight` is not trainable\n",
      "Parameter `transformer.h.5.ln_2.bias` is not trainable\n",
      "Parameter `transformer.h.5.mlp.c_fc.weight` is not trainable\n",
      "Parameter `transformer.h.5.mlp.c_fc.bias` is not trainable\n",
      "Parameter `transformer.h.5.mlp.c_proj.weight` is not trainable\n",
      "Parameter `transformer.h.5.mlp.c_proj.bias` is not trainable\n",
      "Parameter `transformer.h.6.ln_1.weight` is not trainable\n",
      "Parameter `transformer.h.6.ln_1.bias` is not trainable\n",
      "Parameter `transformer.h.6.attn.c_attn.weight` is not trainable\n",
      "Parameter `transformer.h.6.attn.c_attn.bias` is not trainable\n",
      "Parameter `transformer.h.6.attn.c_proj.weight` is not trainable\n",
      "Parameter `transformer.h.6.attn.c_proj.bias` is not trainable\n",
      "Parameter `transformer.h.6.ln_2.weight` is not trainable\n",
      "Parameter `transformer.h.6.ln_2.bias` is not trainable\n",
      "Parameter `transformer.h.6.mlp.c_fc.weight` is not trainable\n",
      "Parameter `transformer.h.6.mlp.c_fc.bias` is not trainable\n",
      "Parameter `transformer.h.6.mlp.c_proj.weight` is not trainable\n",
      "Parameter `transformer.h.6.mlp.c_proj.bias` is not trainable\n",
      "Parameter `transformer.h.7.ln_1.weight` is not trainable\n",
      "Parameter `transformer.h.7.ln_1.bias` is not trainable\n",
      "Parameter `transformer.h.7.attn.c_attn.weight` is not trainable\n",
      "Parameter `transformer.h.7.attn.c_attn.bias` is not trainable\n",
      "Parameter `transformer.h.7.attn.c_proj.weight` is not trainable\n",
      "Parameter `transformer.h.7.attn.c_proj.bias` is not trainable\n",
      "Parameter `transformer.h.7.ln_2.weight` is not trainable\n",
      "Parameter `transformer.h.7.ln_2.bias` is not trainable\n",
      "Parameter `transformer.h.7.mlp.c_fc.weight` is not trainable\n",
      "Parameter `transformer.h.7.mlp.c_fc.bias` is not trainable\n",
      "Parameter `transformer.h.7.mlp.c_proj.weight` is not trainable\n",
      "Parameter `transformer.h.7.mlp.c_proj.bias` is not trainable\n",
      "Parameter `transformer.h.8.ln_1.weight` is not trainable\n",
      "Parameter `transformer.h.8.ln_1.bias` is not trainable\n",
      "Parameter `transformer.h.8.attn.c_attn.weight` is not trainable\n",
      "Parameter `transformer.h.8.attn.c_attn.bias` is not trainable\n",
      "Parameter `transformer.h.8.attn.c_proj.weight` is not trainable\n",
      "Parameter `transformer.h.8.attn.c_proj.bias` is not trainable\n",
      "Parameter `transformer.h.8.ln_2.weight` is not trainable\n",
      "Parameter `transformer.h.8.ln_2.bias` is not trainable\n",
      "Parameter `transformer.h.8.mlp.c_fc.weight` is not trainable\n",
      "Parameter `transformer.h.8.mlp.c_fc.bias` is not trainable\n",
      "Parameter `transformer.h.8.mlp.c_proj.weight` is not trainable\n",
      "Parameter `transformer.h.8.mlp.c_proj.bias` is not trainable\n",
      "Parameter `transformer.h.9.ln_1.weight` is not trainable\n",
      "Parameter `transformer.h.9.ln_1.bias` is not trainable\n",
      "Parameter `transformer.h.9.attn.c_attn.weight` is not trainable\n",
      "Parameter `transformer.h.9.attn.c_attn.bias` is not trainable\n",
      "Parameter `transformer.h.9.attn.c_proj.weight` is not trainable\n",
      "Parameter `transformer.h.9.attn.c_proj.bias` is not trainable\n",
      "Parameter `transformer.h.9.ln_2.weight` is not trainable\n",
      "Parameter `transformer.h.9.ln_2.bias` is not trainable\n",
      "Parameter `transformer.h.9.mlp.c_fc.weight` is not trainable\n",
      "Parameter `transformer.h.9.mlp.c_fc.bias` is not trainable\n",
      "Parameter `transformer.h.9.mlp.c_proj.weight` is not trainable\n",
      "Parameter `transformer.h.9.mlp.c_proj.bias` is not trainable\n",
      "Parameter `transformer.h.10.ln_1.weight` is not trainable\n",
      "Parameter `transformer.h.10.ln_1.bias` is not trainable\n",
      "Parameter `transformer.h.10.attn.c_attn.weight` is not trainable\n",
      "Parameter `transformer.h.10.attn.c_attn.bias` is not trainable\n",
      "Parameter `transformer.h.10.attn.c_proj.weight` is not trainable\n",
      "Parameter `transformer.h.10.attn.c_proj.bias` is not trainable\n",
      "Parameter `transformer.h.10.ln_2.weight` is not trainable\n",
      "Parameter `transformer.h.10.ln_2.bias` is not trainable\n",
      "Parameter `transformer.h.10.mlp.c_fc.weight` is not trainable\n",
      "Parameter `transformer.h.10.mlp.c_fc.bias` is not trainable\n",
      "Parameter `transformer.h.10.mlp.c_proj.weight` is not trainable\n",
      "Parameter `transformer.h.10.mlp.c_proj.bias` is not trainable\n",
      "Parameter `transformer.ln_f.weight` is not trainable\n",
      "Parameter `transformer.ln_f.bias` is not trainable\n",
      "Parameter `score.weight` is not trainable\n"
     ]
    }
   ],
   "source": [
    "for name, param in model.named_parameters(): \n",
    "    if param.requires_grad == False: print(f\"Parameter `{name}` is not trainable\") "
   ]
  },
  {
   "cell_type": "markdown",
   "metadata": {},
   "source": [
    "I'm not sure if linear layer `score` is trainable?!"
   ]
  },
  {
   "cell_type": "code",
   "execution_count": 30,
   "metadata": {},
   "outputs": [],
   "source": [
    "# Training function\n",
    "def train(model, train_loader, val_loader, optimizer, num_epochs, device):\n",
    "    model.to(device)\n",
    "    \n",
    "    train_losses = []\n",
    "    val_losses = []\n",
    "    \n",
    "    for epoch in range(num_epochs):\n",
    "        model.train()\n",
    "        total_train_loss = 0\n",
    "        \n",
    "        for batch in train_loader:\n",
    "            input_ids = batch['input_ids'].to(device)\n",
    "            attention_mask = batch['attention_mask'].to(device)\n",
    "            labels = batch['labels'].to(device)\n",
    "            \n",
    "            optimizer.zero_grad()\n",
    "            outputs = model(input_ids, attention_mask=attention_mask, labels=labels)\n",
    "            loss = outputs.loss\n",
    "            loss.backward()\n",
    "            optimizer.step()\n",
    "            \n",
    "            total_train_loss += loss.item()\n",
    "        \n",
    "        avg_train_loss = total_train_loss / len(train_loader)\n",
    "        train_losses.append(avg_train_loss)\n",
    "        \n",
    "        model.eval()\n",
    "        total_val_loss = 0\n",
    "        \n",
    "        with torch.no_grad():\n",
    "            for batch in val_loader:\n",
    "                input_ids = batch['input_ids'].to(device)\n",
    "                attention_mask = batch['attention_mask'].to(device)\n",
    "                labels = batch['labels'].to(device)\n",
    "                \n",
    "                outputs = model(input_ids, attention_mask=attention_mask, labels=labels)\n",
    "                loss = outputs.loss\n",
    "                \n",
    "                total_val_loss += loss.item()\n",
    "        \n",
    "        avg_val_loss = total_val_loss / len(val_loader)\n",
    "        val_losses.append(avg_val_loss)\n",
    "        \n",
    "        print(f'Epoch {epoch+1}/{num_epochs}, Train Loss: {avg_train_loss:.4f}, Val Loss: {avg_val_loss:.4f}')\n",
    "    \n",
    "    return train_losses, val_losses"
   ]
  },
  {
   "cell_type": "code",
   "execution_count": 31,
   "metadata": {},
   "outputs": [
    {
     "name": "stderr",
     "output_type": "stream",
     "text": [
      "/home/zeus/miniconda3/envs/cloudspace/lib/python3.10/site-packages/transformers/optimization.py:591: FutureWarning: This implementation of AdamW is deprecated and will be removed in a future version. Use the PyTorch implementation torch.optim.AdamW instead, or set `no_deprecation_warning=True` to disable this warning\n",
      "  warnings.warn(\n"
     ]
    }
   ],
   "source": [
    "# Train the model\n",
    "device = torch.device('cuda' if torch.cuda.is_available() else 'cpu')\n",
    "optimizer = AdamW(model.parameters(), lr=5e-5)\n",
    "num_epochs = 3"
   ]
  },
  {
   "cell_type": "code",
   "execution_count": 32,
   "metadata": {},
   "outputs": [
    {
     "name": "stdout",
     "output_type": "stream",
     "text": [
      "Epoch 1/3, Train Loss: 4.2373, Val Loss: 3.8770\n",
      "Epoch 2/3, Train Loss: 4.3680, Val Loss: 3.6446\n",
      "Epoch 3/3, Train Loss: 3.1554, Val Loss: 3.4152\n"
     ]
    }
   ],
   "source": [
    "train_losses, val_losses = train(model, train_loader, val_loader, optimizer, num_epochs, device)"
   ]
  },
  {
   "cell_type": "code",
   "execution_count": 33,
   "metadata": {},
   "outputs": [],
   "source": [
    "# Plot training and validation loss\n",
    "plt.figure(figsize=(10, 5))\n",
    "plt.plot(train_losses, label='Training Loss')\n",
    "plt.plot(val_losses, label='Validation Loss')\n",
    "plt.title('Training and Validation Loss')\n",
    "plt.xlabel('Epoch')\n",
    "plt.ylabel('Loss')\n",
    "plt.legend()\n",
    "plt.savefig('loss_plot.png')\n",
    "plt.close()"
   ]
  },
  {
   "cell_type": "code",
   "execution_count": 34,
   "metadata": {},
   "outputs": [],
   "source": [
    "# Evaluate on test set\n",
    "model.eval()\n",
    "test_loss = 0\n",
    "correct = 0\n",
    "total = 0"
   ]
  },
  {
   "cell_type": "code",
   "execution_count": 35,
   "metadata": {},
   "outputs": [
    {
     "name": "stdout",
     "output_type": "stream",
     "text": [
      "Test Loss: 3.4377, Accuracy: 40.00%\n"
     ]
    }
   ],
   "source": [
    "with torch.no_grad():\n",
    "    for batch in test_loader:\n",
    "        input_ids = batch['input_ids'].to(device)\n",
    "        attention_mask = batch['attention_mask'].to(device)\n",
    "        labels = batch['labels'].to(device)\n",
    "        \n",
    "        outputs = model(input_ids, attention_mask=attention_mask, labels=labels)\n",
    "        loss = outputs.loss\n",
    "        logits = outputs.logits\n",
    "        \n",
    "        test_loss += loss.item()\n",
    "        _, predicted = torch.max(logits, 1)\n",
    "        total += labels.size(0)\n",
    "        correct += (predicted == labels).sum().item()\n",
    "\n",
    "avg_test_loss = test_loss / len(test_loader)\n",
    "accuracy = 100 * correct / total\n",
    "\n",
    "print(f'Test Loss: {avg_test_loss:.4f}, Accuracy: {accuracy:.2f}%')"
   ]
  },
  {
   "cell_type": "code",
   "execution_count": 50,
   "metadata": {},
   "outputs": [],
   "source": [
    "def classify(text, model, tokenizer, device, max_length=1024):\n",
    "    model.eval()\n",
    "\n",
    "    # Prepare inputs to the model\n",
    "    input_ids = tokenizer.encode(text, add_special_tokens=True)\n",
    "    \n",
    "    # Truncate sequences if they are too long\n",
    "    input_ids = input_ids[:min(max_length, model.config.max_position_embeddings)]\n",
    "\n",
    "    # Pad sequences to the max length\n",
    "    padding_length = max_length - len(input_ids)\n",
    "    input_ids = input_ids + ([tokenizer.pad_token_id] * padding_length)\n",
    "    \n",
    "    attention_mask = [1] * len(input_ids)\n",
    "    \n",
    "    # Convert to tensors and add batch dimension\n",
    "    input_tensor = torch.tensor(input_ids).unsqueeze(0).to(device)\n",
    "    attention_mask = torch.tensor(attention_mask).unsqueeze(0).to(device)\n",
    "\n",
    "    # Model inference\n",
    "    with torch.no_grad():\n",
    "        outputs = model(input_tensor, attention_mask=attention_mask)\n",
    "        logits = outputs.logits\n",
    "    \n",
    "    predicted_label = torch.argmax(logits, dim=1).item()\n",
    "\n",
    "    # Map the predicted label to sentiment\n",
    "    sentiment_map = {0: \"Positive\", 1: \"Negative\", 2: \"Not Stated\"}\n",
    "    return sentiment_map[predicted_label]"
   ]
  },
  {
   "cell_type": "code",
   "execution_count": 51,
   "metadata": {},
   "outputs": [
    {
     "name": "stdout",
     "output_type": "stream",
     "text": [
      "The sentiment of the text is: Not Stated\n"
     ]
    }
   ],
   "source": [
    "# Assuming you have already loaded your model and tokenizer\n",
    "device = torch.device('cuda' if torch.cuda.is_available() else 'cpu')\n",
    "model.to(device)\n",
    "\n",
    "text = \"\"\"\n",
    "There are scattered fibroglandular densities. No definite mass, architectural distortion, suspicious calcifications, or skin thickening are seen.\n",
    "\"\"\"\n",
    "\n",
    "sentiment = classify(text, model, tokenizer, device)\n",
    "print(f\"The sentiment of the text is: {sentiment}\")\n"
   ]
  },
  {
   "cell_type": "code",
   "execution_count": null,
   "metadata": {},
   "outputs": [],
   "source": []
  }
 ],
 "metadata": {
  "language_info": {
   "name": "python"
  }
 },
 "nbformat": 4,
 "nbformat_minor": 2
}
